{
 "cells": [
  {
   "cell_type": "code",
   "execution_count": 117,
   "metadata": {
    "collapsed": false
   },
   "outputs": [],
   "source": [
    "import numpy as np\n",
    "import pandas as pd\n",
    "#import xgboost\n",
    "import matplotlib.pyplot as plt\n",
    "import matplotlib\n",
    "matplotlib.style.use('ggplot')\n",
    "matplotlib.interactive(True)\n",
    "from sklearn.model_selection import train_test_split\n",
    "from sklearn.metrics import confusion_matrix, roc_curve, auc\n",
    "from sklearn import preprocessing\n",
    "\n",
    "\n",
    "from sklearn.linear_model import LogisticRegression\n",
    "from sklearn.neural_network import MLPClassifier\n",
    "from sklearn.neighbors import KNeighborsClassifier\n",
    "from sklearn.svm import SVC\n",
    "from sklearn.gaussian_process import GaussianProcessClassifier\n",
    "from sklearn.gaussian_process.kernels import RBF\n",
    "from sklearn.tree import DecisionTreeClassifier\n",
    "from sklearn.ensemble import RandomForestClassifier, AdaBoostClassifier, GradientBoostingClassifier\n",
    "from sklearn.naive_bayes import GaussianNB\n",
    "from sklearn.discriminant_analysis import QuadraticDiscriminantAnalysis"
   ]
  },
  {
   "cell_type": "code",
   "execution_count": 95,
   "metadata": {
    "collapsed": true
   },
   "outputs": [],
   "source": [
    "%matplotlib inline"
   ]
  },
  {
   "cell_type": "code",
   "execution_count": 96,
   "metadata": {
    "collapsed": false
   },
   "outputs": [
    {
     "name": "stderr",
     "output_type": "stream",
     "text": [
      "/home/ramya/anaconda3/lib/python3.5/site-packages/IPython/core/interactiveshell.py:2717: DtypeWarning: Columns (90,105,119,120,123,124,132,134,135,138,139,147,149,150,153,154,162,164,165,168,169,177,179,183,184,192,194,198,199,207,209,213,214,224,237,239,244) have mixed types. Specify dtype option on import or set low_memory=False.\n",
      "  interactivity=interactivity, compiler=compiler, result=result)\n"
     ]
    }
   ],
   "source": [
    "df = pd.read_csv(\"./data/unimelb_training.csv\")"
   ]
  },
  {
   "cell_type": "code",
   "execution_count": 97,
   "metadata": {
    "collapsed": false,
    "scrolled": true
   },
   "outputs": [],
   "source": [
    "df[\"Sponsor.Code\"] = df[\"Sponsor.Code\"].fillna(df[\"Sponsor.Code\"].value_counts().index[0])\n",
    "df = df.join(pd.get_dummies(df[\"Sponsor.Code\"], prefix = \"S\"))\n",
    "#df.drop([\"Sponsor.Code\"], axis = 1, inplace = True)\n",
    "\n",
    "\n",
    "df[\"Grant.Category.Code\"] = df[\"Grant.Category.Code\"].fillna(df[\n",
    "        \"Grant.Category.Code\"].value_counts().index[0])\n",
    "df = df.join(pd.get_dummies(df[\"Grant.Category.Code\"], prefix = \"G\"))\n",
    "#df.drop([\"Grant.Category.Code\"], axis = 1, inplace = True)\n",
    "\n",
    "\n",
    "\n",
    "df[\"Contract.Value.Band...see.note.A\"] = df[\"Contract.Value.Band...see.note.A\"].fillna(\n",
    "    df[\"Contract.Value.Band...see.note.A\"].value_counts().index[0])\n",
    "\n",
    "df[\"Sponsor.Code\"] = df[\"Sponsor.Code\"].astype('category', ordered = False)\n",
    "\n",
    "df[\"Grant.Category.Code\"] = df[\"Grant.Category.Code\"].astype('category', ordered = False)\n",
    "\n",
    "df[\"Start.date\"] = pd.to_datetime(df[\"Start.date\"])\n",
    "df[\"Start.date\"] = df[\"Start.date\"].astype('int64')//1e15"
   ]
  },
  {
   "cell_type": "code",
   "execution_count": 98,
   "metadata": {
    "collapsed": false
   },
   "outputs": [],
   "source": [
    "df.drop([\"Sponsor.Code\"], axis = 1, inplace = True)\n",
    "df.drop([\"Grant.Category.Code\"], axis = 1, inplace = True)"
   ]
  },
  {
   "cell_type": "code",
   "execution_count": 99,
   "metadata": {
    "collapsed": false
   },
   "outputs": [],
   "source": [
    "contract_value_ordered = ['A ', 'B ', 'C ', 'D ', 'E ', 'F ', 'G ', 'H ', 'I ', 'J ', 'K ', 'L ', 'M ',\n",
    "                         'N ', 'O ', 'P ', 'Q ']\n",
    "df['Contract.Value.Band...see.note.A'] = df[\"Contract.Value.Band...see.note.A\"].astype(\n",
    "    'category', ordered = True, categories = contract_value_ordered).cat.codes"
   ]
  },
  {
   "cell_type": "code",
   "execution_count": 100,
   "metadata": {
    "collapsed": false
   },
   "outputs": [],
   "source": [
    "for feature in [\"RFCD.Code.\", \"RFCD.Percentage.\", \"SEO.Code.\", \"SEO.Percentage.\"]:\n",
    "    for i in range(1, 6):\n",
    "        df[feature+str(i)] = df[feature+str(i)].fillna(0)"
   ]
  },
  {
   "cell_type": "code",
   "execution_count": 101,
   "metadata": {
    "collapsed": false
   },
   "outputs": [],
   "source": [
    "RFCD_dummy = pd.DataFrame()\n",
    "for i in range(1, 6):\n",
    "    RFCD_dummy = RFCD_dummy.add(pd.get_dummies(df[\"RFCD.Code.\" + str(i)],\n",
    "                                       columns = [\"RFCD.Code.\" + str(i)], prefix = \"RFCD\").multiply(\n",
    "                                       df[\"RFCD.Percentage.\" + str(i)],axis = 0), \n",
    "                        fill_value = 0.0)"
   ]
  },
  {
   "cell_type": "code",
   "execution_count": 102,
   "metadata": {
    "collapsed": false
   },
   "outputs": [],
   "source": [
    "SEO_dummy = pd.DataFrame()\n",
    "for i in range(1, 6):\n",
    "    SEO_dummy = SEO_dummy.add(pd.get_dummies(df[\"SEO.Code.\" + str(i)],\n",
    "                                       columns = [\"SEO.Code.\" + str(i)], prefix = \"SEO\").multiply(\n",
    "                                       df[\"SEO.Percentage.\" + str(i)],axis = 0), \n",
    "                        fill_value = 0.0)"
   ]
  },
  {
   "cell_type": "code",
   "execution_count": 103,
   "metadata": {
    "collapsed": false
   },
   "outputs": [],
   "source": [
    "df2 = df.join(RFCD_dummy.join(SEO_dummy))"
   ]
  },
  {
   "cell_type": "code",
   "execution_count": 104,
   "metadata": {
    "collapsed": false,
    "scrolled": true
   },
   "outputs": [],
   "source": [
    "for i in range(1,6):\n",
    "    df2.drop([\"RFCD.Code.\" + str(i), \"RFCD.Percentage.\" + str(i),\n",
    "                 \"SEO.Code.\" + str(i), \"SEO.Percentage.\" + str(i)],\n",
    "                   axis = 1, inplace = True)\n"
   ]
  },
  {
   "cell_type": "markdown",
   "metadata": {},
   "source": [
    "___\n",
    "** Droping all columns with NaN values (have to modify after data cleaning)**\n",
    "___"
   ]
  },
  {
   "cell_type": "code",
   "execution_count": 105,
   "metadata": {
    "collapsed": true
   },
   "outputs": [],
   "source": [
    "df2.dropna(axis = 1, how = 'any', inplace = True)"
   ]
  },
  {
   "cell_type": "markdown",
   "metadata": {},
   "source": [
    "___\n",
    "** After data cleansing for the remaining set of columns, please check this **\n",
    "___"
   ]
  },
  {
   "cell_type": "code",
   "execution_count": 106,
   "metadata": {
    "collapsed": true
   },
   "outputs": [],
   "source": [
    "y = df2[\"Grant.Status\"]\n",
    "X = df2.drop([\"Grant.Status\"], axis = 1)"
   ]
  },
  {
   "cell_type": "code",
   "execution_count": 107,
   "metadata": {
    "collapsed": false
   },
   "outputs": [],
   "source": [
    "X[\"Start.date\"] = X[\"Start.date\"].astype('int64')//1e15"
   ]
  },
  {
   "cell_type": "code",
   "execution_count": 108,
   "metadata": {
    "collapsed": true
   },
   "outputs": [],
   "source": [
    "X_train, X_test, y_train, y_test = train_test_split(X, y, test_size = 0.3, random_state = 7)"
   ]
  },
  {
   "cell_type": "code",
   "execution_count": null,
   "metadata": {
    "collapsed": true
   },
   "outputs": [],
   "source": []
  },
  {
   "cell_type": "markdown",
   "metadata": {},
   "source": [
    "## Random Forest Classifier Model"
   ]
  },
  {
   "cell_type": "code",
   "execution_count": 109,
   "metadata": {
    "collapsed": false
   },
   "outputs": [],
   "source": [
    "model = RandomForestClassifier(n_estimators = 45, max_depth = 15, \n",
    "                               min_samples_split = 4, min_samples_leaf = 2,\n",
    "                               oob_score = True, random_state = 1)"
   ]
  },
  {
   "cell_type": "code",
   "execution_count": 110,
   "metadata": {
    "collapsed": false
   },
   "outputs": [
    {
     "data": {
      "text/plain": [
       "RandomForestClassifier(bootstrap=True, class_weight=None, criterion='gini',\n",
       "            max_depth=15, max_features='auto', max_leaf_nodes=None,\n",
       "            min_impurity_split=1e-07, min_samples_leaf=2,\n",
       "            min_samples_split=4, min_weight_fraction_leaf=0.0,\n",
       "            n_estimators=45, n_jobs=1, oob_score=True, random_state=1,\n",
       "            verbose=0, warm_start=False)"
      ]
     },
     "execution_count": 110,
     "metadata": {},
     "output_type": "execute_result"
    }
   ],
   "source": [
    "model.fit(X_train, y_train)"
   ]
  },
  {
   "cell_type": "code",
   "execution_count": 111,
   "metadata": {
    "collapsed": false
   },
   "outputs": [],
   "source": [
    "score = model.oob_score_"
   ]
  },
  {
   "cell_type": "raw",
   "metadata": {},
   "source": []
  },
  {
   "cell_type": "code",
   "execution_count": 91,
   "metadata": {
    "collapsed": false,
    "scrolled": true
   },
   "outputs": [
    {
     "data": {
      "text/plain": [
       "0.7133716160787531"
      ]
     },
     "execution_count": 91,
     "metadata": {},
     "output_type": "execute_result"
    }
   ],
   "source": [
    "score"
   ]
  },
  {
   "cell_type": "code",
   "execution_count": 92,
   "metadata": {
    "collapsed": true
   },
   "outputs": [],
   "source": [
    "score = model.score(X_test, y_test)"
   ]
  },
  {
   "cell_type": "code",
   "execution_count": 93,
   "metadata": {
    "collapsed": false
   },
   "outputs": [
    {
     "data": {
      "text/plain": [
       "0.72789896670493681"
      ]
     },
     "execution_count": 93,
     "metadata": {},
     "output_type": "execute_result"
    }
   ],
   "source": [
    "score"
   ]
  },
  {
   "cell_type": "code",
   "execution_count": null,
   "metadata": {
    "collapsed": true
   },
   "outputs": [],
   "source": []
  },
  {
   "cell_type": "markdown",
   "metadata": {
    "collapsed": true
   },
   "source": [
    "## Logistic Regression"
   ]
  },
  {
   "cell_type": "code",
   "execution_count": null,
   "metadata": {
    "collapsed": true
   },
   "outputs": [],
   "source": []
  },
  {
   "cell_type": "markdown",
   "metadata": {},
   "source": [
    "## Making predictions\n",
    "\n",
    "__Linear Regression__"
   ]
  },
  {
   "cell_type": "code",
   "execution_count": null,
   "metadata": {
    "collapsed": true
   },
   "outputs": [],
   "source": []
  },
  {
   "cell_type": "code",
   "execution_count": null,
   "metadata": {
    "collapsed": false
   },
   "outputs": [],
   "source": [
    "\n"
   ]
  },
  {
   "cell_type": "markdown",
   "metadata": {},
   "source": [
    "Check with different features"
   ]
  },
  {
   "cell_type": "code",
   "execution_count": 124,
   "metadata": {
    "collapsed": true
   },
   "outputs": [],
   "source": [
    "names = [\n",
    "        \"Neural Net\", \n",
    "        #\"Logistic Regression\", \n",
    "        #\"Nearest Neighbors\", \n",
    "        #\"Linear SVM\", \n",
    "        #\"RBF SVM\", \n",
    "        #\"Gaussian Process\",\n",
    "        #\"Decision Tree\", \n",
    "        \"Random Forest\", \n",
    "        #\"AdaBoost\",\n",
    "        #\"Naive Bayes\", \n",
    "        #\"QDA\"\n",
    "        ]\n"
   ]
  },
  {
   "cell_type": "code",
   "execution_count": 125,
   "metadata": {
    "collapsed": true
   },
   "outputs": [],
   "source": [
    "classifiers = [\n",
    "        MLPClassifier(alpha=0.001),\n",
    "        #LogisticRegression(C=1e-10, penalty='l2', tol=1e-6),\n",
    "        #KNeighborsClassifier(3),\n",
    "        #SVC(kernel=\"linear\", C=0.025),\n",
    "        #SVC(gamma=2, C=1),\n",
    "        #GaussianProcessClassifier(1.0 * RBF(1.0), warm_start=True),\n",
    "        #DecisionTreeClassifier(max_depth=5),\n",
    "        RandomForestClassifier(n_estimators = 45, max_depth = 15, \n",
    "                               min_samples_split = 4, min_samples_leaf = 2,\n",
    "                               oob_score = True, random_state = 1),\n",
    "        #AdaBoostClassifier(),\n",
    "        #GaussianNB(),\n",
    "        #QuadraticDiscriminantAnalysis()\n",
    "        ]"
   ]
  },
  {
   "cell_type": "code",
   "execution_count": 126,
   "metadata": {
    "collapsed": false
   },
   "outputs": [
    {
     "name": "stdout",
     "output_type": "stream",
     "text": [
      "Neural Net\n",
      "True positives: 0.4354971240755957\n",
      "False negatives: 0.5645028759244043\n",
      "True negatives: 0.7822349570200573\n",
      "True positives: 0.2177650429799427\n",
      "\n",
      "ROC AUC: 0.61\n"
     ]
    },
    {
     "data": {
      "image/png": "[encoded data removed]",
      "text/plain": [
       "<matplotlib.figure.Figure at 0x7fadd41354a8>"
      ]
     },
     "metadata": {},
     "output_type": "display_data"
    },
    {
     "name": "stdout",
     "output_type": "stream",
     "text": [
      "Random Forest\n",
      "True positives: 0.6170912078882498\n",
      "False negatives: 0.3829087921117502\n",
      "True negatives: 0.8244985673352435\n",
      "True positives: 0.17550143266475646\n",
      "\n",
      "ROC AUC: 0.72\n"
     ]
    },
    {
     "data": {
      "image/png": "[encoded data removed]",
      "text/plain": [
       "<matplotlib.figure.Figure at 0x7fadd435bd30>"
      ]
     },
     "metadata": {},
     "output_type": "display_data"
    }
   ],
   "source": [
    "cms = {}\n",
    "n_neg = float(y_test.value_counts()[0])\n",
    "n_pos = float(y_test.value_counts()[1])\n",
    "for name, clf in zip(names, classifiers):\n",
    "    print(name)\n",
    "    clf.fit(X_train, y_train)\n",
    "    cm = confusion_matrix(y_test, clf.predict(X_test))\n",
    "    cms[name] = cm\n",
    "    print(\"True positives: {}\".format(cm[1,1] / n_pos))\n",
    "    print(\"False negatives: {}\".format(cm[1,0] / n_pos))\n",
    "    print(\"True negatives: {}\".format(cm[0,0] / n_neg))\n",
    "    print(\"True positives: {}\".format(cm[0,1] / n_neg))\n",
    "    print(\"\")\n",
    "    fpr, tpr, _ = roc_curve(y_test, clf.predict(X_test))\n",
    "    \n",
    "    roc_auc = auc(fpr, tpr)\n",
    "    print(\"ROC AUC: %0.2f\" % roc_auc)\n",
    "    \n",
    "    plt.figure()\n",
    "    plt.plot(fpr, tpr, label='ROC curve (area = %0.2f)' % roc_auc)\n",
    "    plt.plot([0, 1], [0, 1], 'k--')\n",
    "    plt.xlabel('False Positive Rate')\n",
    "    plt.ylabel('True Positive Rate')\n",
    "    plt.title('ROC Curve')\n",
    "    plt.legend(loc=\"lower right\")\n",
    "    plt.show()"
   ]
  },
  {
   "cell_type": "code",
   "execution_count": null,
   "metadata": {
    "collapsed": false,
    "scrolled": false
   },
   "outputs": [],
   "source": []
  },
  {
   "cell_type": "code",
   "execution_count": 116,
   "metadata": {
    "collapsed": false
   },
   "outputs": [
    {
     "name": "stdout",
     "output_type": "stream",
     "text": [
      "Random Forest\n"
     ]
    }
   ],
   "source": [
    "for name, clf in zip(names, classifiers):\n",
    "    print(name)\n",
    "    clf.fit(X_train, y_train)\n",
    "    clf.apply"
   ]
  },
  {
   "cell_type": "code",
   "execution_count": null,
   "metadata": {
    "collapsed": true
   },
   "outputs": [],
   "source": []
  }
 ],
 "metadata": {
  "anaconda-cloud": {},
  "kernelspec": {
   "display_name": "Python [default]",
   "language": "python",
   "name": "python3"
  },
  "language_info": {
   "codemirror_mode": {
    "name": "ipython",
    "version": 3
   },
   "file_extension": ".py",
   "mimetype": "text/x-python",
   "name": "python",
   "nbconvert_exporter": "python",
   "pygments_lexer": "ipython3",
   "version": "3.5.2"
  }
 },
 "nbformat": 4,
 "nbformat_minor": 1
}
